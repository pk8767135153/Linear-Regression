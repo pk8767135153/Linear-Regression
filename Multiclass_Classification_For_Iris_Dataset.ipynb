{
  "nbformat": 4,
  "nbformat_minor": 0,
  "metadata": {
    "colab": {
      "private_outputs": true,
      "provenance": []
    },
    "kernelspec": {
      "name": "python3",
      "display_name": "Python 3"
    },
    "language_info": {
      "name": "python"
    }
  },
  "cells": [
    {
      "cell_type": "code",
      "execution_count": null,
      "metadata": {
        "id": "TRnzRRt8SZ8K"
      },
      "outputs": [],
      "source": [
        "import pandas as pd\n",
        "import numpy as np\n",
        "import seaborn as sns\n",
        "import warnings\n",
        "\n",
        "warnings.filterwarnings(\"ignore\")"
      ]
    },
    {
      "cell_type": "code",
      "source": [
        "data = sns.load_dataset(\"iris\")"
      ],
      "metadata": {
        "id": "IQNzFjhVS3Gs"
      },
      "execution_count": null,
      "outputs": []
    },
    {
      "cell_type": "code",
      "source": [
        "# data[\"species\"].unique()\n",
        "data[\"species\"] = data[\"species\"].map({\"setosa\":0,\"versicolor\":1,\"virginica\":2})"
      ],
      "metadata": {
        "id": "FazuqtzUS-fu"
      },
      "execution_count": null,
      "outputs": []
    },
    {
      "cell_type": "code",
      "source": [
        "data.info()"
      ],
      "metadata": {
        "id": "EgFwyEETTWKp"
      },
      "execution_count": null,
      "outputs": []
    },
    {
      "cell_type": "code",
      "source": [
        "# Independent Variable and Dependent Variable\n",
        "X = data.drop(\"species\",axis=1)\n",
        "y = data[\"species\"]"
      ],
      "metadata": {
        "id": "F1eHQ0LVTdmq"
      },
      "execution_count": null,
      "outputs": []
    },
    {
      "cell_type": "code",
      "source": [
        "from sklearn.model_selection import train_test_split\n",
        "X_train,X_test,y_train,y_test = train_test_split(X,y,test_size=0.2,random_state=1)"
      ],
      "metadata": {
        "id": "14GEG0FwTlyE"
      },
      "execution_count": null,
      "outputs": []
    },
    {
      "cell_type": "code",
      "source": [
        "from sklearn.linear_model import LogisticRegressionCV"
      ],
      "metadata": {
        "id": "PpYxHkILTtYX"
      },
      "execution_count": null,
      "outputs": []
    },
    {
      "cell_type": "code",
      "source": [
        "model_ovr = LogisticRegressionCV(cv=5,random_state=0,verbose=1,multi_class=\"ovr\",solver=\"lbfgs\")\n",
        "model_ovr"
      ],
      "metadata": {
        "id": "Oa0OV6R9T1Of"
      },
      "execution_count": null,
      "outputs": []
    },
    {
      "cell_type": "code",
      "source": [
        "model_ovr.fit(X_train,y_train)"
      ],
      "metadata": {
        "id": "UNCV22PWUUFg"
      },
      "execution_count": null,
      "outputs": []
    },
    {
      "cell_type": "code",
      "source": [
        "from sklearn.metrics import classification_report,accuracy_score,confusion_matrix\n",
        "\n",
        "y_pred_ovr = model_ovr.predict(X_test)\n",
        "print(f\"Accuracy Score : {accuracy_score(y_test,y_pred_ovr)}\")\n",
        "print(f\"Confusion Matrix : \\n{confusion_matrix(y_test,y_pred_ovr)}\")\n",
        "print(f\"Classification Report : \\n{classification_report(y_test,y_pred_ovr)}\")"
      ],
      "metadata": {
        "id": "WeHKoa5OUX4o"
      },
      "execution_count": null,
      "outputs": []
    },
    {
      "cell_type": "code",
      "source": [
        "model_ovr.predict_proba(X_test)"
      ],
      "metadata": {
        "id": "ETEIvuGaU_gf"
      },
      "execution_count": null,
      "outputs": []
    },
    {
      "cell_type": "code",
      "source": [
        "# multinomial\n",
        "model_multinomial = LogisticRegressionCV(cv=5,random_state=0,verbose=1,multi_class=\"multinomial\",solver=\"lbfgs\")\n",
        "model_multinomial"
      ],
      "metadata": {
        "id": "yxkPRG9kVYph"
      },
      "execution_count": null,
      "outputs": []
    },
    {
      "cell_type": "code",
      "source": [
        "model_multinomial.fit(X_train,y_train)"
      ],
      "metadata": {
        "id": "xNjy_iHsVrnX"
      },
      "execution_count": null,
      "outputs": []
    },
    {
      "cell_type": "code",
      "source": [
        "model_multinomial.predict_proba(X_test)"
      ],
      "metadata": {
        "id": "ZjH7LcHoVxI1"
      },
      "execution_count": null,
      "outputs": []
    },
    {
      "cell_type": "code",
      "source": [
        "from sklearn.metrics import classification_report,accuracy_score,confusion_matrix\n",
        "\n",
        "y_pred_multinomial = model_multinomial.predict(X_test)\n",
        "print(f\"Accuracy Score : {accuracy_score(y_test,y_pred_multinomial)}\")\n",
        "print(f\"Confusion Matrix : \\n{confusion_matrix(y_test,y_pred_multinomial)}\")\n",
        "print(f\"Classification Report : \\n{classification_report(y_test,y_pred_multinomial)}\")"
      ],
      "metadata": {
        "id": "MvqokYr5V5AA"
      },
      "execution_count": null,
      "outputs": []
    }
  ]
}