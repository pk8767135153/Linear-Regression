{
  "cells": [
    {
      "cell_type": "markdown",
      "metadata": {
        "id": "x_EqcOpuy48b"
      },
      "source": [
        "The \"mpg\" dataset"
      ]
    },
    {
      "cell_type": "code",
      "execution_count": 1,
      "metadata": {
        "id": "SEgYDKmQyUOl"
      },
      "outputs": [],
      "source": [
        "import pandas as pd\n",
        "import numpy as np\n",
        "\n",
        "import matplotlib.pyplot as plt\n",
        "import seaborn as sns\n",
        "\n",
        "import warnings\n",
        "warnings.filterwarnings(\"ignore\")"
      ]
    },
    {
      "cell_type": "code",
      "execution_count": 2,
      "metadata": {
        "id": "XybTYErE0X9Z"
      },
      "outputs": [],
      "source": [
        "# Load Dataset\n",
        "data = sns.load_dataset(\"mpg\")"
      ]
    },
    {
      "cell_type": "code",
      "execution_count": 3,
      "metadata": {
        "colab": {
          "base_uri": "https://localhost:8080/",
          "height": 112
        },
        "id": "G1j5_L620qq0",
        "outputId": "d62f5139-e57c-47f3-e478-1941bc015705"
      },
      "outputs": [
        {
          "data": {
            "text/html": [
              "<div>\n",
              "<style scoped>\n",
              "    .dataframe tbody tr th:only-of-type {\n",
              "        vertical-align: middle;\n",
              "    }\n",
              "\n",
              "    .dataframe tbody tr th {\n",
              "        vertical-align: top;\n",
              "    }\n",
              "\n",
              "    .dataframe thead th {\n",
              "        text-align: right;\n",
              "    }\n",
              "</style>\n",
              "<table border=\"1\" class=\"dataframe\">\n",
              "  <thead>\n",
              "    <tr style=\"text-align: right;\">\n",
              "      <th></th>\n",
              "      <th>mpg</th>\n",
              "      <th>cylinders</th>\n",
              "      <th>displacement</th>\n",
              "      <th>horsepower</th>\n",
              "      <th>weight</th>\n",
              "      <th>acceleration</th>\n",
              "      <th>model_year</th>\n",
              "      <th>origin</th>\n",
              "      <th>name</th>\n",
              "    </tr>\n",
              "  </thead>\n",
              "  <tbody>\n",
              "    <tr>\n",
              "      <th>0</th>\n",
              "      <td>18.0</td>\n",
              "      <td>8</td>\n",
              "      <td>307.0</td>\n",
              "      <td>130.0</td>\n",
              "      <td>3504</td>\n",
              "      <td>12.0</td>\n",
              "      <td>70</td>\n",
              "      <td>usa</td>\n",
              "      <td>chevrolet chevelle malibu</td>\n",
              "    </tr>\n",
              "    <tr>\n",
              "      <th>1</th>\n",
              "      <td>15.0</td>\n",
              "      <td>8</td>\n",
              "      <td>350.0</td>\n",
              "      <td>165.0</td>\n",
              "      <td>3693</td>\n",
              "      <td>11.5</td>\n",
              "      <td>70</td>\n",
              "      <td>usa</td>\n",
              "      <td>buick skylark 320</td>\n",
              "    </tr>\n",
              "  </tbody>\n",
              "</table>\n",
              "</div>"
            ],
            "text/plain": [
              "    mpg  cylinders  displacement  horsepower  weight  acceleration  \\\n",
              "0  18.0          8         307.0       130.0    3504          12.0   \n",
              "1  15.0          8         350.0       165.0    3693          11.5   \n",
              "\n",
              "   model_year origin                       name  \n",
              "0          70    usa  chevrolet chevelle malibu  \n",
              "1          70    usa          buick skylark 320  "
            ]
          },
          "execution_count": 3,
          "metadata": {},
          "output_type": "execute_result"
        }
      ],
      "source": [
        "# target features is mpg no need name features\n",
        "data.head(2)"
      ]
    },
    {
      "cell_type": "code",
      "execution_count": 4,
      "metadata": {
        "colab": {
          "base_uri": "https://localhost:8080/",
          "height": 112
        },
        "id": "bEg4AthT07Fx",
        "outputId": "b5c5e722-ebda-4ec9-9a9f-d5a0849bdbb4"
      },
      "outputs": [
        {
          "data": {
            "text/html": [
              "<div>\n",
              "<style scoped>\n",
              "    .dataframe tbody tr th:only-of-type {\n",
              "        vertical-align: middle;\n",
              "    }\n",
              "\n",
              "    .dataframe tbody tr th {\n",
              "        vertical-align: top;\n",
              "    }\n",
              "\n",
              "    .dataframe thead th {\n",
              "        text-align: right;\n",
              "    }\n",
              "</style>\n",
              "<table border=\"1\" class=\"dataframe\">\n",
              "  <thead>\n",
              "    <tr style=\"text-align: right;\">\n",
              "      <th></th>\n",
              "      <th>mpg</th>\n",
              "      <th>cylinders</th>\n",
              "      <th>displacement</th>\n",
              "      <th>horsepower</th>\n",
              "      <th>weight</th>\n",
              "      <th>acceleration</th>\n",
              "      <th>model_year</th>\n",
              "      <th>origin</th>\n",
              "    </tr>\n",
              "  </thead>\n",
              "  <tbody>\n",
              "    <tr>\n",
              "      <th>0</th>\n",
              "      <td>18.0</td>\n",
              "      <td>8</td>\n",
              "      <td>307.0</td>\n",
              "      <td>130.0</td>\n",
              "      <td>3504</td>\n",
              "      <td>12.0</td>\n",
              "      <td>70</td>\n",
              "      <td>usa</td>\n",
              "    </tr>\n",
              "    <tr>\n",
              "      <th>1</th>\n",
              "      <td>15.0</td>\n",
              "      <td>8</td>\n",
              "      <td>350.0</td>\n",
              "      <td>165.0</td>\n",
              "      <td>3693</td>\n",
              "      <td>11.5</td>\n",
              "      <td>70</td>\n",
              "      <td>usa</td>\n",
              "    </tr>\n",
              "  </tbody>\n",
              "</table>\n",
              "</div>"
            ],
            "text/plain": [
              "    mpg  cylinders  displacement  horsepower  weight  acceleration  \\\n",
              "0  18.0          8         307.0       130.0    3504          12.0   \n",
              "1  15.0          8         350.0       165.0    3693          11.5   \n",
              "\n",
              "   model_year origin  \n",
              "0          70    usa  \n",
              "1          70    usa  "
            ]
          },
          "execution_count": 4,
          "metadata": {},
          "output_type": "execute_result"
        }
      ],
      "source": [
        "data.drop(columns=[\"name\"],inplace=True)\n",
        "data.head(2)"
      ]
    },
    {
      "cell_type": "code",
      "execution_count": 5,
      "metadata": {
        "colab": {
          "base_uri": "https://localhost:8080/"
        },
        "id": "gseL3PL_1IO2",
        "outputId": "1e1d9686-45fa-4ddb-8363-d7e51593883b"
      },
      "outputs": [
        {
          "name": "stdout",
          "output_type": "stream",
          "text": [
            "<class 'pandas.core.frame.DataFrame'>\n",
            "RangeIndex: 398 entries, 0 to 397\n",
            "Data columns (total 8 columns):\n",
            " #   Column        Non-Null Count  Dtype  \n",
            "---  ------        --------------  -----  \n",
            " 0   mpg           398 non-null    float64\n",
            " 1   cylinders     398 non-null    int64  \n",
            " 2   displacement  398 non-null    float64\n",
            " 3   horsepower    392 non-null    float64\n",
            " 4   weight        398 non-null    int64  \n",
            " 5   acceleration  398 non-null    float64\n",
            " 6   model_year    398 non-null    int64  \n",
            " 7   origin        398 non-null    object \n",
            "dtypes: float64(4), int64(3), object(1)\n",
            "memory usage: 25.0+ KB\n"
          ]
        }
      ],
      "source": [
        "data.info()"
      ]
    },
    {
      "cell_type": "code",
      "execution_count": 6,
      "metadata": {
        "colab": {
          "base_uri": "https://localhost:8080/",
          "height": 335
        },
        "id": "f17dtxEZ1Uwk",
        "outputId": "6d258401-77b2-4fac-fded-b7553a5334eb"
      },
      "outputs": [
        {
          "data": {
            "text/plain": [
              "mpg             0\n",
              "cylinders       0\n",
              "displacement    0\n",
              "horsepower      6\n",
              "weight          0\n",
              "acceleration    0\n",
              "model_year      0\n",
              "origin          0\n",
              "dtype: int64"
            ]
          },
          "execution_count": 6,
          "metadata": {},
          "output_type": "execute_result"
        }
      ],
      "source": [
        "# check Null Value\n",
        "data.isnull().sum()"
      ]
    },
    {
      "cell_type": "code",
      "execution_count": 7,
      "metadata": {
        "colab": {
          "base_uri": "https://localhost:8080/"
        },
        "id": "j6t9DyyU1ZPh",
        "outputId": "58a9c380-9163-4645-aa98-ab7d0a6b1414"
      },
      "outputs": [
        {
          "data": {
            "text/plain": [
              "93.5"
            ]
          },
          "execution_count": 7,
          "metadata": {},
          "output_type": "execute_result"
        }
      ],
      "source": [
        "# Since we have not done outlier treatment, then better idea would be to replace the missing value with median\n",
        "data[\"horsepower\"].median()"
      ]
    },
    {
      "cell_type": "code",
      "execution_count": 8,
      "metadata": {
        "id": "KR7tRQbM1yY7"
      },
      "outputs": [],
      "source": [
        "data[\"horsepower\"].fillna(data[\"horsepower\"].median(),inplace=True)"
      ]
    },
    {
      "cell_type": "code",
      "execution_count": 9,
      "metadata": {
        "colab": {
          "base_uri": "https://localhost:8080/",
          "height": 335
        },
        "id": "8Mx4u5gf13kI",
        "outputId": "c42ddb70-85d3-478f-c2cd-1f9652720185"
      },
      "outputs": [
        {
          "data": {
            "text/plain": [
              "mpg             0\n",
              "cylinders       0\n",
              "displacement    0\n",
              "horsepower      0\n",
              "weight          0\n",
              "acceleration    0\n",
              "model_year      0\n",
              "origin          0\n",
              "dtype: int64"
            ]
          },
          "execution_count": 9,
          "metadata": {},
          "output_type": "execute_result"
        }
      ],
      "source": [
        "data.isnull().sum()"
      ]
    },
    {
      "cell_type": "code",
      "execution_count": 10,
      "metadata": {
        "colab": {
          "base_uri": "https://localhost:8080/",
          "height": 335
        },
        "id": "jC6SBUkG2IU8",
        "outputId": "e97e4f01-27ff-4a9c-b8ef-31aec8e50b66"
      },
      "outputs": [
        {
          "data": {
            "text/plain": [
              "mpg             float64\n",
              "cylinders         int64\n",
              "displacement    float64\n",
              "horsepower      float64\n",
              "weight            int64\n",
              "acceleration    float64\n",
              "model_year        int64\n",
              "origin           object\n",
              "dtype: object"
            ]
          },
          "execution_count": 10,
          "metadata": {},
          "output_type": "execute_result"
        }
      ],
      "source": [
        "data.dtypes"
      ]
    },
    {
      "cell_type": "code",
      "execution_count": 11,
      "metadata": {
        "colab": {
          "base_uri": "https://localhost:8080/",
          "height": 209
        },
        "id": "1DxDe-af2LB3",
        "outputId": "4a019ef8-40f7-41c2-a453-7f0c0a77c2a8"
      },
      "outputs": [
        {
          "data": {
            "text/plain": [
              "usa       249\n",
              "japan      79\n",
              "europe     70\n",
              "Name: origin, dtype: int64"
            ]
          },
          "execution_count": 11,
          "metadata": {},
          "output_type": "execute_result"
        }
      ],
      "source": [
        "data[\"origin\"].value_counts()"
      ]
    },
    {
      "cell_type": "code",
      "execution_count": 12,
      "metadata": {
        "id": "s6UuHH9I2WBX"
      },
      "outputs": [],
      "source": [
        "# There is Object Data Feactures\n",
        "data[\"origin\"] = data[\"origin\"].map({\"usa\":1,\"japan\":2,\"europe\":3})"
      ]
    },
    {
      "cell_type": "code",
      "execution_count": 13,
      "metadata": {
        "colab": {
          "base_uri": "https://localhost:8080/",
          "height": 335
        },
        "id": "o3bDC-nU3Prx",
        "outputId": "c01c9ff2-b823-45da-8ce6-c1ea7ff34572"
      },
      "outputs": [
        {
          "data": {
            "text/plain": [
              "mpg             float64\n",
              "cylinders         int64\n",
              "displacement    float64\n",
              "horsepower      float64\n",
              "weight            int64\n",
              "acceleration    float64\n",
              "model_year        int64\n",
              "origin            int64\n",
              "dtype: object"
            ]
          },
          "execution_count": 13,
          "metadata": {},
          "output_type": "execute_result"
        }
      ],
      "source": [
        "data.dtypes"
      ]
    },
    {
      "cell_type": "code",
      "execution_count": 14,
      "metadata": {
        "id": "Z0EbMOa53Sw5"
      },
      "outputs": [],
      "source": [
        "# Separate into X and Y\n",
        "X = data.drop(columns=[\"mpg\"])\n",
        "y = data[\"mpg\"]"
      ]
    },
    {
      "cell_type": "code",
      "execution_count": 15,
      "metadata": {
        "colab": {
          "base_uri": "https://localhost:8080/",
          "height": 112
        },
        "id": "ZtZvARnr3ad2",
        "outputId": "378e7fe5-814a-43e2-a70a-36dc0b35b4ea"
      },
      "outputs": [
        {
          "data": {
            "text/html": [
              "<div>\n",
              "<style scoped>\n",
              "    .dataframe tbody tr th:only-of-type {\n",
              "        vertical-align: middle;\n",
              "    }\n",
              "\n",
              "    .dataframe tbody tr th {\n",
              "        vertical-align: top;\n",
              "    }\n",
              "\n",
              "    .dataframe thead th {\n",
              "        text-align: right;\n",
              "    }\n",
              "</style>\n",
              "<table border=\"1\" class=\"dataframe\">\n",
              "  <thead>\n",
              "    <tr style=\"text-align: right;\">\n",
              "      <th></th>\n",
              "      <th>cylinders</th>\n",
              "      <th>displacement</th>\n",
              "      <th>horsepower</th>\n",
              "      <th>weight</th>\n",
              "      <th>acceleration</th>\n",
              "      <th>model_year</th>\n",
              "      <th>origin</th>\n",
              "    </tr>\n",
              "  </thead>\n",
              "  <tbody>\n",
              "    <tr>\n",
              "      <th>0</th>\n",
              "      <td>8</td>\n",
              "      <td>307.0</td>\n",
              "      <td>130.0</td>\n",
              "      <td>3504</td>\n",
              "      <td>12.0</td>\n",
              "      <td>70</td>\n",
              "      <td>1</td>\n",
              "    </tr>\n",
              "    <tr>\n",
              "      <th>1</th>\n",
              "      <td>8</td>\n",
              "      <td>350.0</td>\n",
              "      <td>165.0</td>\n",
              "      <td>3693</td>\n",
              "      <td>11.5</td>\n",
              "      <td>70</td>\n",
              "      <td>1</td>\n",
              "    </tr>\n",
              "  </tbody>\n",
              "</table>\n",
              "</div>"
            ],
            "text/plain": [
              "   cylinders  displacement  horsepower  weight  acceleration  model_year  \\\n",
              "0          8         307.0       130.0    3504          12.0          70   \n",
              "1          8         350.0       165.0    3693          11.5          70   \n",
              "\n",
              "   origin  \n",
              "0       1  \n",
              "1       1  "
            ]
          },
          "execution_count": 15,
          "metadata": {},
          "output_type": "execute_result"
        }
      ],
      "source": [
        "X.head(2)"
      ]
    },
    {
      "cell_type": "code",
      "execution_count": 16,
      "metadata": {
        "colab": {
          "base_uri": "https://localhost:8080/",
          "height": 241
        },
        "id": "sqIG911i3qmf",
        "outputId": "016946d8-e8f8-443d-ac6c-63553d7f9a78"
      },
      "outputs": [
        {
          "data": {
            "text/plain": [
              "0    18.0\n",
              "1    15.0\n",
              "2    18.0\n",
              "3    16.0\n",
              "4    17.0\n",
              "Name: mpg, dtype: float64"
            ]
          },
          "execution_count": 16,
          "metadata": {},
          "output_type": "execute_result"
        }
      ],
      "source": [
        "y.head()"
      ]
    },
    {
      "cell_type": "code",
      "execution_count": 17,
      "metadata": {
        "id": "wQBWsZvR3uSz"
      },
      "outputs": [],
      "source": [
        "from sklearn.model_selection import train_test_split\n",
        "X_train,X_test,y_train,y_test = train_test_split(X,y,test_size=0.2,random_state=1)"
      ]
    },
    {
      "cell_type": "code",
      "execution_count": 18,
      "metadata": {
        "colab": {
          "base_uri": "https://localhost:8080/"
        },
        "id": "9jR_QdjT4CZ8",
        "outputId": "72845eea-fb68-4448-ea24-774a71819a85"
      },
      "outputs": [
        {
          "name": "stdout",
          "output_type": "stream",
          "text": [
            "(318, 7)\n",
            "(80, 7)\n",
            "(318,)\n",
            "(80,)\n"
          ]
        }
      ],
      "source": [
        "print(X_train.shape)\n",
        "print(X_test.shape)\n",
        "print(y_train.shape)\n",
        "print(y_test.shape)"
      ]
    },
    {
      "cell_type": "code",
      "execution_count": 19,
      "metadata": {
        "colab": {
          "base_uri": "https://localhost:8080/",
          "height": 80
        },
        "id": "K3FLDfue4F6m",
        "outputId": "ec2e062e-3ac5-4951-afc9-48f869e02e44"
      },
      "outputs": [
        {
          "data": {
            "text/plain": [
              "LinearRegression()"
            ]
          },
          "execution_count": 19,
          "metadata": {},
          "output_type": "execute_result"
        }
      ],
      "source": [
        "# Simple Linear Regression Model\n",
        "from sklearn.linear_model import LinearRegression\n",
        "\n",
        "regression_model = LinearRegression()\n",
        "regression_model"
      ]
    },
    {
      "cell_type": "code",
      "execution_count": 20,
      "metadata": {
        "colab": {
          "base_uri": "https://localhost:8080/",
          "height": 80
        },
        "id": "Q0ren0VN4V-G",
        "outputId": "857191a9-9e8e-4900-c8ac-7410f4919da5"
      },
      "outputs": [
        {
          "data": {
            "text/plain": [
              "LinearRegression()"
            ]
          },
          "execution_count": 20,
          "metadata": {},
          "output_type": "execute_result"
        }
      ],
      "source": [
        "# Train the model\n",
        "regression_model.fit(X_train,y_train)"
      ]
    },
    {
      "cell_type": "code",
      "execution_count": 21,
      "metadata": {
        "colab": {
          "base_uri": "https://localhost:8080/"
        },
        "id": "lXNxxiBP4axx",
        "outputId": "0d303a0e-2e8c-44df-d235-657956f8bb8b"
      },
      "outputs": [
        {
          "data": {
            "text/plain": [
              "array([-0.2165378 ,  0.01987994, -0.01270482, -0.0071647 ,  0.09047637,\n",
              "        0.84604207,  1.42800007])"
            ]
          },
          "execution_count": 21,
          "metadata": {},
          "output_type": "execute_result"
        }
      ],
      "source": [
        "regression_model.coef_"
      ]
    },
    {
      "cell_type": "code",
      "execution_count": 22,
      "metadata": {
        "colab": {
          "base_uri": "https://localhost:8080/"
        },
        "id": "Oy0N8qab4eGq",
        "outputId": "269d9007-b158-436e-e2cb-0f3dd6befed4"
      },
      "outputs": [
        {
          "name": "stdout",
          "output_type": "stream",
          "text": [
            "cylinders : -0.21653780216832877\n",
            "displacement : 0.019879936208875095\n",
            "horsepower : -0.012704816241841353\n",
            "weight : -0.007164698157663284\n",
            "acceleration : 0.09047636715999383\n",
            "model_year : 0.8460420672591435\n",
            "origin : 1.4280000651600915\n"
          ]
        }
      ],
      "source": [
        "# enumerate() combines both the index and the element into one iterator.\n",
        "for i, col in enumerate(X_train.columns):\n",
        "    print(f\"{col} : {regression_model.coef_[i]}\")\n"
      ]
    },
    {
      "cell_type": "code",
      "execution_count": 23,
      "metadata": {
        "id": "BP-MeC6e4oWH"
      },
      "outputs": [],
      "source": [
        "# Coefficient are relatively smaller, if one independent variable changes\n",
        "# There will be not much differences inprediction\n",
        "# This is sometimes called as smoother model\n",
        "\n",
        "# These features might not be contributiing in model traing"
      ]
    },
    {
      "cell_type": "code",
      "execution_count": 24,
      "metadata": {
        "colab": {
          "base_uri": "https://localhost:8080/"
        },
        "id": "jlq3iFer5okD",
        "outputId": "11a80e04-baeb-44d6-b4ab-4908fa96bb2d"
      },
      "outputs": [
        {
          "name": "stdout",
          "output_type": "stream",
          "text": [
            "R2 Score : 0.8563012451456409\n",
            "MAE : 2.2040552125486697\n",
            "MSE : 8.0961492850645\n"
          ]
        }
      ],
      "source": [
        "from sklearn.metrics import r2_score,mean_absolute_error,mean_squared_error\n",
        "\n",
        "y_pred_linear = regression_model.predict(X_test)\n",
        "\n",
        "print(f\"R2 Score : {r2_score(y_test,y_pred_linear)}\")\n",
        "print(f\"MAE : {mean_absolute_error(y_test,y_pred_linear)}\")\n",
        "print(f\"MSE : {mean_squared_error(y_test,y_pred_linear)}\")"
      ]
    },
    {
      "cell_type": "markdown",
      "metadata": {
        "id": "8H70Qab96q-s"
      },
      "source": [
        "#### **Ridge Regression**"
      ]
    },
    {
      "cell_type": "code",
      "execution_count": 25,
      "metadata": {
        "colab": {
          "base_uri": "https://localhost:8080/",
          "height": 80
        },
        "id": "KTN9mQmd6nW1",
        "outputId": "9578f155-f7de-4ed7-bb32-56acf1ddd840"
      },
      "outputs": [
        {
          "data": {
            "text/plain": [
              "Ridge(alpha=0.1)"
            ]
          },
          "execution_count": 25,
          "metadata": {},
          "output_type": "execute_result"
        }
      ],
      "source": [
        "from sklearn.linear_model import Ridge\n",
        "\n",
        "ridge_model = Ridge(alpha=0.1)\n",
        "ridge_model"
      ]
    },
    {
      "cell_type": "code",
      "execution_count": 26,
      "metadata": {
        "colab": {
          "base_uri": "https://localhost:8080/",
          "height": 80
        },
        "id": "z3gGBKNx7PIa",
        "outputId": "506a97e9-33fe-4cdc-9fb5-642eb2e307ef"
      },
      "outputs": [
        {
          "data": {
            "text/plain": [
              "Ridge(alpha=0.1)"
            ]
          },
          "execution_count": 26,
          "metadata": {},
          "output_type": "execute_result"
        }
      ],
      "source": [
        "ridge_model.fit(X_train,y_train)"
      ]
    },
    {
      "cell_type": "code",
      "execution_count": 27,
      "metadata": {
        "colab": {
          "base_uri": "https://localhost:8080/"
        },
        "id": "NMfMoZu_7axO",
        "outputId": "4d85faf6-8218-4df8-c3b8-6fb84c90a7ea"
      },
      "outputs": [
        {
          "name": "stdout",
          "output_type": "stream",
          "text": [
            "cylinders : -0.21615305026026044\n",
            "displacement : 0.01986221581111451\n",
            "horsepower : -0.012697324116592825\n",
            "weight : -0.007164428584491189\n",
            "acceleration : 0.09045740164184239\n",
            "model_year : 0.845974707406231\n",
            "origin : 1.426669100478145\n"
          ]
        }
      ],
      "source": [
        "# enumerate() combines both the index and the element into one iterator.\n",
        "for i, col in enumerate(X_train.columns):\n",
        "    print(f\"{col} : {ridge_model.coef_[i]}\")\n"
      ]
    },
    {
      "cell_type": "code",
      "execution_count": 28,
      "metadata": {
        "colab": {
          "base_uri": "https://localhost:8080/"
        },
        "id": "Plm77PHz7xsK",
        "outputId": "94f9e6a7-02c3-479a-904d-7036877f5889"
      },
      "outputs": [
        {
          "name": "stdout",
          "output_type": "stream",
          "text": [
            "R2 Score : 0.8563026607885914\n",
            "MAE : 2.2039603875258953\n",
            "MSE : 8.096069526150282\n"
          ]
        }
      ],
      "source": [
        "from sklearn.metrics import r2_score,mean_absolute_error,mean_squared_error\n",
        "\n",
        "y_pred_linear = ridge_model.predict(X_test)\n",
        "\n",
        "print(f\"R2 Score : {r2_score(y_test,y_pred_linear)}\")\n",
        "print(f\"MAE : {mean_absolute_error(y_test,y_pred_linear)}\")\n",
        "print(f\"MSE : {mean_squared_error(y_test,y_pred_linear)}\")"
      ]
    },
    {
      "cell_type": "code",
      "execution_count": 29,
      "metadata": {
        "colab": {
          "base_uri": "https://localhost:8080/"
        },
        "id": "-ZhBp4vc7xmV",
        "outputId": "aab2e64e-4b18-4bc4-b881-f4cd17ffd83b"
      },
      "outputs": [
        {
          "name": "stdout",
          "output_type": "stream",
          "text": [
            "R2 Score : 0.8563012451456409\n",
            "MAE : 2.2040552125486697\n",
            "MSE : 8.0961492850645\n"
          ]
        }
      ],
      "source": [
        "from sklearn.metrics import r2_score,mean_absolute_error,mean_squared_error\n",
        "\n",
        "y_pred_linear = regression_model.predict(X_test)\n",
        "\n",
        "print(f\"R2 Score : {r2_score(y_test,y_pred_linear)}\")\n",
        "print(f\"MAE : {mean_absolute_error(y_test,y_pred_linear)}\")\n",
        "print(f\"MSE : {mean_squared_error(y_test,y_pred_linear)}\")"
      ]
    },
    {
      "cell_type": "code",
      "execution_count": 30,
      "metadata": {
        "id": "P_0ZVdtl8Z4V"
      },
      "outputs": [],
      "source": [
        "# We don't see much variation in coeff of ridge regression as compared to linear regression"
      ]
    },
    {
      "cell_type": "markdown",
      "metadata": {
        "id": "b5hmn9CA8mfK"
      },
      "source": [
        "#### **Lasso Regression**"
      ]
    },
    {
      "cell_type": "code",
      "execution_count": 31,
      "metadata": {
        "colab": {
          "base_uri": "https://localhost:8080/",
          "height": 80
        },
        "id": "WmJx1qsI8sBV",
        "outputId": "6b11a187-2706-430f-e9fe-887c43a681c9"
      },
      "outputs": [
        {
          "data": {
            "text/plain": [
              "Lasso(alpha=0.5)"
            ]
          },
          "execution_count": 31,
          "metadata": {},
          "output_type": "execute_result"
        }
      ],
      "source": [
        "from sklearn.linear_model import Lasso\n",
        "\n",
        "lasso_model = Lasso(alpha=0.5)\n",
        "lasso_model"
      ]
    },
    {
      "cell_type": "code",
      "execution_count": 32,
      "metadata": {
        "colab": {
          "base_uri": "https://localhost:8080/",
          "height": 80
        },
        "id": "NCDNDeoF8wSl",
        "outputId": "26d511d5-667f-4528-f640-2404f2415c59"
      },
      "outputs": [
        {
          "data": {
            "text/plain": [
              "Lasso(alpha=0.5)"
            ]
          },
          "execution_count": 32,
          "metadata": {},
          "output_type": "execute_result"
        }
      ],
      "source": [
        "lasso_model.fit(X_train,y_train)"
      ]
    },
    {
      "cell_type": "code",
      "execution_count": 33,
      "metadata": {
        "colab": {
          "base_uri": "https://localhost:8080/"
        },
        "id": "EixZwfsn82GZ",
        "outputId": "e8a053d9-b3f3-4624-fbbd-51dc7dbd37e3"
      },
      "outputs": [
        {
          "name": "stdout",
          "output_type": "stream",
          "text": [
            "cylinders : -0.0\n",
            "displacement : 0.0019772716551741043\n",
            "horsepower : -0.009291692111718762\n",
            "weight : -0.006589928565464688\n",
            "acceleration : 0.0\n",
            "model_year : 0.7532080062488491\n",
            "origin : 0.0\n"
          ]
        }
      ],
      "source": [
        "# enumerate() combines both the index and the element into one iterator.\n",
        "for i, col in enumerate(X_train.columns):\n",
        "    print(f\"{col} : {lasso_model.coef_[i]}\")\n",
        "\n",
        "\n",
        "# Three features coefficients is 0, lasso helps in feature selection"
      ]
    },
    {
      "cell_type": "code",
      "execution_count": 34,
      "metadata": {
        "colab": {
          "base_uri": "https://localhost:8080/"
        },
        "id": "wovFQjl18-S9",
        "outputId": "b297b928-effc-4eb3-8b0c-a4421d28323e"
      },
      "outputs": [
        {
          "name": "stdout",
          "output_type": "stream",
          "text": [
            "R2 Score : 0.8457765614927952\n",
            "MAE : 2.2267896108555623\n",
            "MSE : 8.689121785890116\n"
          ]
        }
      ],
      "source": [
        "from sklearn.metrics import r2_score,mean_absolute_error,mean_squared_error\n",
        "\n",
        "y_pred_linear = lasso_model.predict(X_test)\n",
        "\n",
        "print(f\"R2 Score : {r2_score(y_test,y_pred_linear)}\")\n",
        "print(f\"MAE : {mean_absolute_error(y_test,y_pred_linear)}\")\n",
        "print(f\"MSE : {mean_squared_error(y_test,y_pred_linear)}\")"
      ]
    },
    {
      "cell_type": "code",
      "execution_count": 35,
      "metadata": {
        "colab": {
          "base_uri": "https://localhost:8080/"
        },
        "id": "OKsmRxwV81QK",
        "outputId": "4d913320-6d4a-45ca-bbb2-985b6a416a77"
      },
      "outputs": [
        {
          "name": "stdout",
          "output_type": "stream",
          "text": [
            "cylinders : -0.21615305026026044\n",
            "displacement : 0.01986221581111451\n",
            "horsepower : -0.012697324116592825\n",
            "weight : -0.007164428584491189\n",
            "acceleration : 0.09045740164184239\n",
            "model_year : 0.845974707406231\n",
            "origin : 1.426669100478145\n"
          ]
        }
      ],
      "source": [
        "# enumerate() combines both the index and the element into one iterator.\n",
        "for i, col in enumerate(X_train.columns):\n",
        "    print(f\"{col} : {ridge_model.coef_[i]}\")\n"
      ]
    },
    {
      "cell_type": "markdown",
      "metadata": {},
      "source": [
        "##### **Elastic Net Regression**"
      ]
    },
    {
      "cell_type": "code",
      "execution_count": 43,
      "metadata": {},
      "outputs": [
        {
          "data": {
            "text/plain": [
              "ElasticNet(alpha=1)"
            ]
          },
          "execution_count": 43,
          "metadata": {},
          "output_type": "execute_result"
        }
      ],
      "source": [
        "from sklearn.linear_model import ElasticNet\n",
        "\n",
        "elastic_model = ElasticNet(alpha=1,l1_ratio=0.5)\n",
        "elastic_model"
      ]
    },
    {
      "cell_type": "code",
      "execution_count": 48,
      "metadata": {},
      "outputs": [
        {
          "data": {
            "text/plain": [
              "ElasticNet(alpha=1)"
            ]
          },
          "execution_count": 48,
          "metadata": {},
          "output_type": "execute_result"
        }
      ],
      "source": [
        "elastic_model.fit(X_train,y_train)"
      ]
    },
    {
      "cell_type": "code",
      "execution_count": 47,
      "metadata": {},
      "outputs": [
        {
          "name": "stdout",
          "output_type": "stream",
          "text": [
            "cylinders : -0.0\n",
            "displacement : 0.0015384959190967644\n",
            "horsepower : -0.01064195700207186\n",
            "weight : -0.006532608594610211\n",
            "acceleration : 0.0\n",
            "model_year : 0.7203541472156387\n",
            "origin : 0.0\n"
          ]
        }
      ],
      "source": [
        "# enumerate() combines both the index and the element into one iterator.\n",
        "for i, col in enumerate(X_train.columns):\n",
        "    print(f\"{col} : {elastic_model.coef_[i]}\")\n"
      ]
    },
    {
      "cell_type": "code",
      "execution_count": 45,
      "metadata": {},
      "outputs": [
        {
          "name": "stdout",
          "output_type": "stream",
          "text": [
            "R2 Score : 0.8477301010951965\n",
            "MAE : 2.2011646588506513\n",
            "MSE : 8.579057170011176\n"
          ]
        }
      ],
      "source": [
        "from sklearn.metrics import r2_score,mean_absolute_error,mean_squared_error\n",
        "\n",
        "y_pred_linear = elastic_model.predict(X_test)\n",
        "\n",
        "print(f\"R2 Score : {r2_score(y_test,y_pred_linear)}\")\n",
        "print(f\"MAE : {mean_absolute_error(y_test,y_pred_linear)}\")\n",
        "print(f\"MSE : {mean_squared_error(y_test,y_pred_linear)}\")"
      ]
    },
    {
      "cell_type": "markdown",
      "metadata": {},
      "source": [
        "##### **Regularisation with Crossvalidation**"
      ]
    },
    {
      "cell_type": "code",
      "execution_count": 59,
      "metadata": {},
      "outputs": [
        {
          "data": {
            "text/plain": [
              "LassoCV(cv=5, verbose=1.4)"
            ]
          },
          "execution_count": 59,
          "metadata": {},
          "output_type": "execute_result"
        }
      ],
      "source": [
        "from sklearn.linear_model import LassoCV\n",
        "# LassoCV, ElasticNetCV, RidgeCV It is way to building model here each regression technique internaly take care of cross validataion\n",
        "\n",
        "Lass_CV_model = LassoCV(cv = 5, verbose=1.4)\n",
        "Lass_CV_model"
      ]
    },
    {
      "cell_type": "code",
      "execution_count": 60,
      "metadata": {},
      "outputs": [
        {
          "name": "stdout",
          "output_type": "stream",
          "text": [
            "Path: 000 out of 100\n",
            "Path: 001 out of 100\n",
            "Path: 002 out of 100\n",
            "Path: 003 out of 100\n",
            "Path: 004 out of 100\n",
            "Path: 005 out of 100\n",
            "Path: 006 out of 100\n",
            "Path: 007 out of 100\n",
            "Path: 008 out of 100\n",
            "Path: 009 out of 100\n",
            "Path: 010 out of 100\n",
            "Path: 011 out of 100\n",
            "Path: 012 out of 100\n",
            "Path: 013 out of 100\n",
            "Path: 014 out of 100\n",
            "Path: 015 out of 100\n",
            "Path: 016 out of 100\n",
            "Path: 017 out of 100\n",
            "Path: 018 out of 100\n",
            "Path: 019 out of 100\n",
            "Path: 020 out of 100\n",
            "Path: 021 out of 100\n",
            "Path: 022 out of 100\n",
            "Path: 023 out of 100\n",
            "Path: 024 out of 100\n",
            "Path: 025 out of 100\n",
            "Path: 026 out of 100\n",
            "Path: 027 out of 100\n",
            "Path: 028 out of 100\n",
            "Path: 029 out of 100\n",
            "Path: 030 out of 100\n",
            "Path: 031 out of 100\n",
            "Path: 032 out of 100\n",
            "Path: 033 out of 100\n",
            "Path: 034 out of 100\n",
            "Path: 035 out of 100\n",
            "Path: 036 out of 100\n",
            "Path: 037 out of 100\n",
            "Path: 038 out of 100\n",
            "Path: 039 out of 100\n",
            "Path: 040 out of 100\n",
            "Path: 041 out of 100\n",
            "Path: 042 out of 100\n",
            "Path: 043 out of 100\n",
            "Path: 044 out of 100\n",
            "Path: 045 out of 100\n",
            "Path: 046 out of 100\n",
            "Path: 047 out of 100\n",
            "Path: 048 out of 100\n",
            "Path: 049 out of 100\n",
            "Path: 050 out of 100\n",
            "Path: 051 out of 100\n",
            "Path: 052 out of 100\n",
            "Path: 053 out of 100\n",
            "Path: 054 out of 100\n",
            "Path: 055 out of 100\n",
            "Path: 056 out of 100\n",
            "Path: 057 out of 100\n",
            "Path: 058 out of 100\n",
            "Path: 059 out of 100\n",
            "Path: 060 out of 100\n",
            "Path: 061 out of 100\n",
            "Path: 062 out of 100\n",
            "Path: 063 out of 100\n",
            "Path: 064 out of 100\n",
            "Path: 065 out of 100\n",
            "Path: 066 out of 100\n",
            "Path: 067 out of 100\n",
            "Path: 068 out of 100\n",
            "Path: 069 out of 100\n",
            "Path: 070 out of 100\n",
            "Path: 071 out of 100\n",
            "Path: 072 out of 100\n",
            "Path: 073 out of 100\n",
            "Path: 074 out of 100\n",
            "Path: 075 out of 100\n",
            "Path: 076 out of 100\n",
            "Path: 077 out of 100\n",
            "Path: 078 out of 100\n",
            "Path: 079 out of 100\n",
            "Path: 080 out of 100\n",
            "Path: 081 out of 100\n",
            "Path: 082 out of 100\n",
            "Path: 083 out of 100\n",
            "Path: 084 out of 100\n",
            "Path: 085 out of 100\n",
            "Path: 086 out of 100\n",
            "Path: 087 out of 100\n",
            "Path: 088 out of 100\n",
            "Path: 089 out of 100\n",
            "Path: 090 out of 100\n",
            "Path: 091 out of 100\n",
            "Path: 092 out of 100\n",
            "Path: 093 out of 100\n",
            "Path: 094 out of 100\n",
            "Path: 095 out of 100\n",
            "Path: 096 out of 100\n",
            "Path: 097 out of 100\n",
            "Path: 098 out of 100\n",
            "Path: 099 out of 100\n",
            "Path: 000 out of 100\n",
            "Path: 001 out of 100\n",
            "Path: 002 out of 100\n",
            "Path: 003 out of 100\n",
            "Path: 004 out of 100\n",
            "Path: 005 out of 100\n",
            "Path: 006 out of 100\n",
            "Path: 007 out of 100\n",
            "Path: 008 out of 100\n",
            "Path: 009 out of 100\n",
            "Path: 010 out of 100\n",
            "Path: 011 out of 100\n",
            "Path: 012 out of 100\n",
            "Path: 013 out of 100\n",
            "Path: 014 out of 100\n",
            "Path: 015 out of 100\n",
            "Path: 016 out of 100\n",
            "Path: 017 out of 100\n",
            "Path: 018 out of 100\n",
            "Path: 019 out of 100\n",
            "Path: 020 out of 100\n",
            "Path: 021 out of 100\n",
            "Path: 022 out of 100\n",
            "Path: 023 out of 100\n",
            "Path: 024 out of 100\n",
            "Path: 025 out of 100\n",
            "Path: 026 out of 100\n",
            "Path: 027 out of 100\n",
            "Path: 028 out of 100\n",
            "Path: 029 out of 100\n",
            "Path: 030 out of 100\n",
            "Path: 031 out of 100\n",
            "Path: 032 out of 100\n",
            "Path: 033 out of 100\n",
            "Path: 034 out of 100\n",
            "Path: 035 out of 100\n",
            "Path: 036 out of 100\n",
            "Path: 037 out of 100\n",
            "Path: 038 out of 100\n",
            "Path: 039 out of 100\n",
            "Path: 040 out of 100\n",
            "Path: 041 out of 100\n",
            "Path: 042 out of 100\n",
            "Path: 043 out of 100\n",
            "Path: 044 out of 100\n",
            "Path: 045 out of 100\n",
            "Path: 046 out of 100\n",
            "Path: 047 out of 100\n",
            "Path: 048 out of 100\n",
            "Path: 049 out of 100\n",
            "Path: 050 out of 100\n",
            "Path: 051 out of 100\n",
            "Path: 052 out of 100\n",
            "Path: 053 out of 100\n",
            "Path: 054 out of 100\n",
            "Path: 055 out of 100\n",
            "Path: 056 out of 100\n",
            "Path: 057 out of 100\n",
            "Path: 058 out of 100\n",
            "Path: 059 out of 100\n",
            "Path: 060 out of 100\n",
            "Path: 061 out of 100\n",
            "Path: 062 out of 100\n",
            "Path: 063 out of 100\n",
            "Path: 064 out of 100\n",
            "Path: 065 out of 100\n",
            "Path: 066 out of 100\n",
            "Path: 067 out of 100\n",
            "Path: 068 out of 100\n",
            "Path: 069 out of 100\n",
            "Path: 070 out of 100\n",
            "Path: 071 out of 100\n",
            "Path: 072 out of 100\n",
            "Path: 073 out of 100\n",
            "Path: 074 out of 100\n",
            "Path: 075 out of 100\n",
            "Path: 076 out of 100\n",
            "Path: 077 out of 100\n",
            "Path: 078 out of 100\n",
            "Path: 079 out of 100\n",
            "Path: 080 out of 100\n",
            "Path: 081 out of 100\n",
            "Path: 082 out of 100\n",
            "Path: 083 out of 100\n",
            "Path: 084 out of 100\n",
            "Path: 085 out of 100\n",
            "Path: 086 out of 100\n",
            "Path: 087 out of 100\n",
            "Path: 088 out of 100\n",
            "Path: 089 out of 100\n",
            "Path: 090 out of 100\n",
            "Path: 091 out of 100\n",
            "Path: 092 out of 100\n",
            "Path: 093 out of 100\n",
            "Path: 094 out of 100\n",
            "Path: 095 out of 100\n",
            "Path: 096 out of 100\n",
            "Path: 097 out of 100\n",
            "Path: 098 out of 100\n",
            "Path: 099 out of 100\n",
            "Path: 000 out of 100\n",
            "Path: 001 out of 100\n",
            "Path: 002 out of 100\n",
            "Path: 003 out of 100\n",
            "Path: 004 out of 100\n",
            "Path: 005 out of 100\n",
            "Path: 006 out of 100\n",
            "Path: 007 out of 100\n",
            "Path: 008 out of 100\n",
            "Path: 009 out of 100\n",
            "Path: 010 out of 100\n",
            "Path: 011 out of 100\n",
            "Path: 012 out of 100\n",
            "Path: 013 out of 100\n",
            "Path: 014 out of 100\n",
            "Path: 015 out of 100\n",
            "Path: 016 out of 100\n",
            "Path: 017 out of 100\n",
            "Path: 018 out of 100\n",
            "Path: 019 out of 100\n",
            "Path: 020 out of 100\n",
            "Path: 021 out of 100\n",
            "Path: 022 out of 100\n",
            "Path: 023 out of 100\n",
            "Path: 024 out of 100\n",
            "Path: 025 out of 100\n",
            "Path: 026 out of 100\n",
            "Path: 027 out of 100\n",
            "Path: 028 out of 100\n",
            "Path: 029 out of 100\n",
            "Path: 030 out of 100\n",
            "Path: 031 out of 100\n",
            "Path: 032 out of 100\n",
            "Path: 033 out of 100\n",
            "Path: 034 out of 100\n",
            "Path: 035 out of 100\n",
            "Path: 036 out of 100\n",
            "Path: 037 out of 100\n",
            "Path: 038 out of 100\n",
            "Path: 039 out of 100\n",
            "Path: 040 out of 100\n",
            "Path: 041 out of 100\n",
            "Path: 042 out of 100\n",
            "Path: 043 out of 100\n",
            "Path: 044 out of 100\n",
            "Path: 045 out of 100\n",
            "Path: 046 out of 100\n",
            "Path: 047 out of 100\n",
            "Path: 048 out of 100\n",
            "Path: 049 out of 100\n",
            "Path: 050 out of 100\n",
            "Path: 051 out of 100\n",
            "Path: 052 out of 100\n",
            "Path: 053 out of 100\n",
            "Path: 054 out of 100\n",
            "Path: 055 out of 100\n",
            "Path: 056 out of 100\n",
            "Path: 057 out of 100\n",
            "Path: 058 out of 100\n",
            "Path: 059 out of 100\n",
            "Path: 060 out of 100\n",
            "Path: 061 out of 100\n",
            "Path: 062 out of 100\n",
            "Path: 063 out of 100\n",
            "Path: 064 out of 100\n",
            "Path: 065 out of 100\n",
            "Path: 066 out of 100\n",
            "Path: 067 out of 100\n",
            "Path: 068 out of 100\n",
            "Path: 069 out of 100\n",
            "Path: 070 out of 100\n",
            "Path: 071 out of 100\n",
            "Path: 072 out of 100\n",
            "Path: 073 out of 100\n",
            "Path: 074 out of 100\n",
            "Path: 075 out of 100\n",
            "Path: 076 out of 100\n",
            "Path: 077 out of 100\n",
            "Path: 078 out of 100\n",
            "Path: 079 out of 100\n",
            "Path: 080 out of 100\n",
            "Path: 081 out of 100\n",
            "Path: 082 out of 100\n",
            "Path: 083 out of 100\n",
            "Path: 084 out of 100\n",
            "Path: 085 out of 100\n",
            "Path: 086 out of 100\n",
            "Path: 087 out of 100\n",
            "Path: 088 out of 100\n",
            "Path: 089 out of 100\n",
            "Path: 090 out of 100\n",
            "Path: 091 out of 100\n",
            "Path: 092 out of 100\n",
            "Path: 093 out of 100\n",
            "Path: 094 out of 100\n",
            "Path: 095 out of 100\n",
            "Path: 096 out of 100\n",
            "Path: 097 out of 100\n",
            "Path: 098 out of 100\n",
            "Path: 099 out of 100\n",
            "Path: 000 out of 100\n",
            "Path: 001 out of 100\n",
            "Path: 002 out of 100\n",
            "Path: 003 out of 100\n",
            "Path: 004 out of 100\n",
            "Path: 005 out of 100\n",
            "Path: 006 out of 100\n",
            "Path: 007 out of 100\n",
            "Path: 008 out of 100\n",
            "Path: 009 out of 100\n",
            "Path: 010 out of 100\n",
            "Path: 011 out of 100\n",
            "Path: 012 out of 100\n",
            "Path: 013 out of 100\n",
            "Path: 014 out of 100\n",
            "Path: 015 out of 100\n",
            "Path: 016 out of 100\n",
            "Path: 017 out of 100\n",
            "Path: 018 out of 100\n",
            "Path: 019 out of 100\n",
            "Path: 020 out of 100\n",
            "Path: 021 out of 100\n",
            "Path: 022 out of 100\n",
            "Path: 023 out of 100\n",
            "Path: 024 out of 100\n",
            "Path: 025 out of 100\n",
            "Path: 026 out of 100\n",
            "Path: 027 out of 100\n",
            "Path: 028 out of 100\n",
            "Path: 029 out of 100\n",
            "Path: 030 out of 100\n",
            "Path: 031 out of 100\n",
            "Path: 032 out of 100\n",
            "Path: 033 out of 100\n",
            "Path: 034 out of 100\n",
            "Path: 035 out of 100\n",
            "Path: 036 out of 100\n",
            "Path: 037 out of 100\n",
            "Path: 038 out of 100\n",
            "Path: 039 out of 100\n",
            "Path: 040 out of 100\n",
            "Path: 041 out of 100\n",
            "Path: 042 out of 100\n",
            "Path: 043 out of 100\n",
            "Path: 044 out of 100\n",
            "Path: 045 out of 100\n",
            "Path: 046 out of 100\n",
            "Path: 047 out of 100\n",
            "Path: 048 out of 100\n",
            "Path: 049 out of 100\n",
            "Path: 050 out of 100\n",
            "Path: 051 out of 100\n",
            "Path: 052 out of 100\n",
            "Path: 053 out of 100\n",
            "Path: 054 out of 100\n",
            "Path: 055 out of 100\n",
            "Path: 056 out of 100\n",
            "Path: 057 out of 100\n",
            "Path: 058 out of 100\n",
            "Path: 059 out of 100\n",
            "Path: 060 out of 100\n",
            "Path: 061 out of 100\n",
            "Path: 062 out of 100\n",
            "Path: 063 out of 100\n",
            "Path: 064 out of 100\n",
            "Path: 065 out of 100\n",
            "Path: 066 out of 100\n",
            "Path: 067 out of 100\n",
            "Path: 068 out of 100\n",
            "Path: 069 out of 100\n",
            "Path: 070 out of 100\n",
            "Path: 071 out of 100\n",
            "Path: 072 out of 100\n",
            "Path: 073 out of 100\n",
            "Path: 074 out of 100\n",
            "Path: 075 out of 100\n",
            "Path: 076 out of 100\n",
            "Path: 077 out of 100\n",
            "Path: 078 out of 100\n",
            "Path: 079 out of 100\n",
            "Path: 080 out of 100\n",
            "Path: 081 out of 100\n",
            "Path: 082 out of 100\n",
            "Path: 083 out of 100\n",
            "Path: 084 out of 100\n",
            "Path: 085 out of 100\n",
            "Path: 086 out of 100\n",
            "Path: 087 out of 100\n",
            "Path: 088 out of 100\n",
            "Path: 089 out of 100\n",
            "Path: 090 out of 100\n",
            "Path: 091 out of 100\n",
            "Path: 092 out of 100\n",
            "Path: 093 out of 100\n",
            "Path: 094 out of 100\n",
            "Path: 095 out of 100\n",
            "Path: 096 out of 100\n",
            "Path: 097 out of 100\n",
            "Path: 098 out of 100\n",
            "Path: 099 out of 100\n",
            "Path: 000 out of 100\n",
            "Path: 001 out of 100\n",
            "Path: 002 out of 100\n",
            "Path: 003 out of 100\n",
            "Path: 004 out of 100\n",
            "Path: 005 out of 100\n",
            "Path: 006 out of 100\n",
            "Path: 007 out of 100\n",
            "Path: 008 out of 100\n",
            "Path: 009 out of 100\n",
            "Path: 010 out of 100\n",
            "Path: 011 out of 100\n",
            "Path: 012 out of 100\n",
            "Path: 013 out of 100\n",
            "Path: 014 out of 100\n",
            "Path: 015 out of 100\n",
            "Path: 016 out of 100\n",
            "Path: 017 out of 100\n",
            "Path: 018 out of 100\n",
            "Path: 019 out of 100\n",
            "Path: 020 out of 100\n",
            "Path: 021 out of 100\n",
            "Path: 022 out of 100\n",
            "Path: 023 out of 100\n",
            "Path: 024 out of 100\n",
            "Path: 025 out of 100\n",
            "Path: 026 out of 100\n",
            "Path: 027 out of 100\n",
            "Path: 028 out of 100\n",
            "Path: 029 out of 100\n",
            "Path: 030 out of 100\n",
            "Path: 031 out of 100\n",
            "Path: 032 out of 100\n",
            "Path: 033 out of 100\n",
            "Path: 034 out of 100\n",
            "Path: 035 out of 100\n",
            "Path: 036 out of 100\n",
            "Path: 037 out of 100\n",
            "Path: 038 out of 100\n",
            "Path: 039 out of 100\n",
            "Path: 040 out of 100\n",
            "Path: 041 out of 100\n",
            "Path: 042 out of 100\n",
            "Path: 043 out of 100\n",
            "Path: 044 out of 100\n",
            "Path: 045 out of 100\n",
            "Path: 046 out of 100\n",
            "Path: 047 out of 100\n",
            "Path: 048 out of 100\n",
            "Path: 049 out of 100\n",
            "Path: 050 out of 100\n",
            "Path: 051 out of 100\n",
            "Path: 052 out of 100\n",
            "Path: 053 out of 100\n",
            "Path: 054 out of 100\n",
            "Path: 055 out of 100\n",
            "Path: 056 out of 100\n",
            "Path: 057 out of 100\n",
            "Path: 058 out of 100\n",
            "Path: 059 out of 100\n",
            "Path: 060 out of 100\n",
            "Path: 061 out of 100\n",
            "Path: 062 out of 100\n",
            "Path: 063 out of 100\n",
            "Path: 064 out of 100\n",
            "Path: 065 out of 100\n",
            "Path: 066 out of 100\n",
            "Path: 067 out of 100\n",
            "Path: 068 out of 100\n",
            "Path: 069 out of 100\n",
            "Path: 070 out of 100\n",
            "Path: 071 out of 100\n",
            "Path: 072 out of 100\n",
            "Path: 073 out of 100\n",
            "Path: 074 out of 100\n",
            "Path: 075 out of 100\n",
            "Path: 076 out of 100\n",
            "Path: 077 out of 100\n",
            "Path: 078 out of 100\n",
            "Path: 079 out of 100\n",
            "Path: 080 out of 100\n",
            "Path: 081 out of 100\n",
            "Path: 082 out of 100\n",
            "Path: 083 out of 100\n",
            "Path: 084 out of 100\n",
            "Path: 085 out of 100\n",
            "Path: 086 out of 100\n",
            "Path: 087 out of 100\n",
            "Path: 088 out of 100\n",
            "Path: 089 out of 100\n",
            "Path: 090 out of 100\n",
            "Path: 091 out of 100\n",
            "Path: 092 out of 100\n",
            "Path: 093 out of 100\n",
            "Path: 094 out of 100\n",
            "Path: 095 out of 100\n",
            "Path: 096 out of 100\n",
            "Path: 097 out of 100\n",
            "Path: 098 out of 100\n",
            "Path: 099 out of 100\n"
          ]
        },
        {
          "name": "stderr",
          "output_type": "stream",
          "text": [
            "[Parallel(n_jobs=1)]: Using backend SequentialBackend with 1 concurrent workers.\n",
            "[Parallel(n_jobs=1)]: Done   1 out of   1 | elapsed:    0.0s remaining:    0.0s\n",
            "[Parallel(n_jobs=1)]: Done   5 out of   5 | elapsed:    0.0s finished\n"
          ]
        },
        {
          "data": {
            "text/plain": [
              "LassoCV(cv=5, verbose=1.4)"
            ]
          },
          "execution_count": 60,
          "metadata": {},
          "output_type": "execute_result"
        }
      ],
      "source": [
        "Lass_CV_model.fit(X_train,y_train)"
      ]
    },
    {
      "cell_type": "code",
      "execution_count": 62,
      "metadata": {},
      "outputs": [
        {
          "name": "stdout",
          "output_type": "stream",
          "text": [
            "R2 Score LassoCV : 0.8410032034906063\n",
            "MAE : 2.184388010512513\n",
            "MSE : 8.95805813830282\n"
          ]
        }
      ],
      "source": [
        "from sklearn.metrics import r2_score,mean_absolute_error,mean_squared_error\n",
        "\n",
        "y_pred_linear = Lass_CV_model.predict(X_test)\n",
        "\n",
        "print(f\"R2 Score LassoCV : {r2_score(y_test,y_pred_linear)}\")\n",
        "print(f\"MAE : {mean_absolute_error(y_test,y_pred_linear)}\")\n",
        "print(f\"MSE : {mean_squared_error(y_test,y_pred_linear)}\")"
      ]
    },
    {
      "cell_type": "markdown",
      "metadata": {},
      "source": [
        "##### **RidgeCV**"
      ]
    },
    {
      "cell_type": "code",
      "execution_count": 63,
      "metadata": {},
      "outputs": [
        {
          "data": {
            "text/plain": [
              "RidgeCV(alphas=array([ 0.1,  1. , 10. ]), cv=5)"
            ]
          },
          "execution_count": 63,
          "metadata": {},
          "output_type": "execute_result"
        }
      ],
      "source": [
        "from sklearn.linear_model import RidgeCV\n",
        "\n",
        "Ridge_CV_model = RidgeCV(cv=5)\n",
        "Ridge_CV_model"
      ]
    },
    {
      "cell_type": "code",
      "execution_count": 64,
      "metadata": {},
      "outputs": [
        {
          "data": {
            "text/plain": [
              "RidgeCV(alphas=array([ 0.1,  1. , 10. ]), cv=5)"
            ]
          },
          "execution_count": 64,
          "metadata": {},
          "output_type": "execute_result"
        }
      ],
      "source": [
        "Ridge_CV_model.fit(X_train,y_train) "
      ]
    },
    {
      "cell_type": "code",
      "execution_count": 65,
      "metadata": {},
      "outputs": [
        {
          "name": "stdout",
          "output_type": "stream",
          "text": [
            "R2 Score Ridge CV : 0.8563494248817896\n",
            "MAE : 2.1951288255207437\n",
            "MSE : 8.09343478460296\n"
          ]
        }
      ],
      "source": [
        "from sklearn.metrics import r2_score,mean_absolute_error,mean_squared_error\n",
        "\n",
        "y_pred_linear = Ridge_CV_model.predict(X_test)\n",
        "\n",
        "print(f\"R2 Score Ridge CV : {r2_score(y_test,y_pred_linear)}\")\n",
        "print(f\"MAE : {mean_absolute_error(y_test,y_pred_linear)}\")\n",
        "print(f\"MSE : {mean_squared_error(y_test,y_pred_linear)}\")"
      ]
    },
    {
      "cell_type": "markdown",
      "metadata": {},
      "source": [
        "##### **ElasticNetCV**"
      ]
    },
    {
      "cell_type": "code",
      "execution_count": 68,
      "metadata": {},
      "outputs": [
        {
          "data": {
            "text/plain": [
              "ElasticNetCV(cv=5)"
            ]
          },
          "execution_count": 68,
          "metadata": {},
          "output_type": "execute_result"
        }
      ],
      "source": [
        "from sklearn.linear_model import ElasticNetCV\n",
        "\n",
        "ElasticNet_CV_model = ElasticNetCV(cv=5)\n",
        "ElasticNet_CV_model"
      ]
    },
    {
      "cell_type": "code",
      "execution_count": 69,
      "metadata": {},
      "outputs": [
        {
          "data": {
            "text/plain": [
              "ElasticNetCV(cv=5)"
            ]
          },
          "execution_count": 69,
          "metadata": {},
          "output_type": "execute_result"
        }
      ],
      "source": [
        "ElasticNet_CV_model.fit(X_train,y_train)"
      ]
    },
    {
      "cell_type": "code",
      "execution_count": 70,
      "metadata": {},
      "outputs": [
        {
          "name": "stdout",
          "output_type": "stream",
          "text": [
            "R2 Score Elastic Net CV : 0.8269714661183813\n",
            "MAE : 2.2939311790844146\n",
            "MSE : 9.748621985633926\n"
          ]
        }
      ],
      "source": [
        "from sklearn.metrics import r2_score,mean_absolute_error,mean_squared_error\n",
        "\n",
        "y_pred_linear = ElasticNet_CV_model.predict(X_test)\n",
        "\n",
        "print(f\"R2 Score Elastic Net CV : {r2_score(y_test,y_pred_linear)}\")\n",
        "print(f\"MAE : {mean_absolute_error(y_test,y_pred_linear)}\")\n",
        "print(f\"MSE : {mean_squared_error(y_test,y_pred_linear)}\")"
      ]
    },
    {
      "cell_type": "markdown",
      "metadata": {},
      "source": [
        "When you set `verbose=1.4` in `LassoCV`, it provides detailed information about the training process. Each cross-validation fold's progress is tracked, displaying how well the model performs with each set of data.\n",
        "\n",
        "This level of detail can be especially useful if you want to see:\n",
        "- Which fold of the cross-validation process is currently being evaluated.\n",
        "- How the model's performance metrics change over time.\n",
        "\n",
        "In `LassoCV`, this can help you understand if there's any inconsistency or irregularity in training, providing a transparent view of your model's training behavior.\n",
        "\n",
        "Here's a snippet of how you might see the verbose output:\n",
        "\n",
        "```python\n",
        "LassoCV(cv=5, verbose=1.4)\n",
        "```\n",
        "\n",
        "This will output:\n",
        "- Progress bar or detailed epoch information based on the library's settings.\n",
        "- Regular updates during each cross-validation fold.\n",
        "\n",
        "Verbose levels:\n",
        "- `0`: Silent mode, no output.\n",
        "- `1`: Progress bar for cross-validation steps.\n",
        "- Values > `1`: More detailed logging.\n",
        "\n",
        "If you have more specific questions about the output or need further assistance with your model training process, feel free to ask!"
      ]
    }
  ],
  "metadata": {
    "colab": {
      "provenance": []
    },
    "kernelspec": {
      "display_name": "base",
      "language": "python",
      "name": "python3"
    },
    "language_info": {
      "codemirror_mode": {
        "name": "ipython",
        "version": 3
      },
      "file_extension": ".py",
      "mimetype": "text/x-python",
      "name": "python",
      "nbconvert_exporter": "python",
      "pygments_lexer": "ipython3",
      "version": "3.9.12"
    }
  },
  "nbformat": 4,
  "nbformat_minor": 0
}
