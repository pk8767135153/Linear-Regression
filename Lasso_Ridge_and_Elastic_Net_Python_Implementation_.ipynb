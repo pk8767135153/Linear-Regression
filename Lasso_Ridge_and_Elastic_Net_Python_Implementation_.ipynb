{
  "nbformat": 4,
  "nbformat_minor": 0,
  "metadata": {
    "colab": {
      "private_outputs": true,
      "provenance": [],
      "collapsed_sections": [
        "kanwFtHrxLkA",
        "MDDiYx-mxRWT",
        "LFgVTz9e9kXt",
        "dR_r-etw9rkL",
        "T4JVA3of98FV",
        "GKsZkT-S93Om"
      ]
    },
    "kernelspec": {
      "name": "python3",
      "display_name": "Python 3"
    },
    "language_info": {
      "name": "python"
    }
  },
  "cells": [
    {
      "cell_type": "code",
      "execution_count": null,
      "metadata": {
        "id": "XFllc8z-geQC"
      },
      "outputs": [],
      "source": [
        "import pandas as pd\n",
        "import numpy as np\n",
        "\n",
        "import matplotlib.pyplot as plt\n",
        "import seaborn as sns\n",
        "\n",
        "import warnings\n",
        "warnings.filterwarnings('ignore')"
      ]
    },
    {
      "cell_type": "code",
      "source": [
        "data = sns.load_dataset(\"mpg\")"
      ],
      "metadata": {
        "id": "xu48rvrxiOAv"
      },
      "execution_count": null,
      "outputs": []
    },
    {
      "cell_type": "code",
      "source": [
        "data.drop(\"name\",axis=1,inplace=True)"
      ],
      "metadata": {
        "id": "ZavSZ1zbigtw"
      },
      "execution_count": null,
      "outputs": []
    },
    {
      "cell_type": "code",
      "source": [
        "# data.head(2)\n",
        "data.info()"
      ],
      "metadata": {
        "id": "81a3bF9villu"
      },
      "execution_count": null,
      "outputs": []
    },
    {
      "cell_type": "code",
      "source": [
        "# horsepower has some null value\n",
        "sns.boxplot(data[\"horsepower\"])\n",
        "plt.show()"
      ],
      "metadata": {
        "id": "ViFMvS31i50U"
      },
      "execution_count": null,
      "outputs": []
    },
    {
      "cell_type": "code",
      "source": [
        "# since we have not done oulier treatment, then better idea would be to replace the missing with median\n",
        "data[\"horsepower\"].fillna(data[\"horsepower\"].median(),inplace=True)"
      ],
      "metadata": {
        "id": "re6nvjnajeyO"
      },
      "execution_count": null,
      "outputs": []
    },
    {
      "cell_type": "code",
      "source": [
        "# for i in data.columns:\n",
        "#   print(f\"{i} : {data[i].unique()}\")\n",
        "\n",
        "data[\"origin\"].unique()"
      ],
      "metadata": {
        "id": "XgrkNRE2kETM"
      },
      "execution_count": null,
      "outputs": []
    },
    {
      "cell_type": "code",
      "source": [
        "# data encoding\n",
        "data[\"origin\"] = data[\"origin\"].map({\"usa\":1,\"japan\":2,\"europe\":3})"
      ],
      "metadata": {
        "id": "htgtLHaYkuO2"
      },
      "execution_count": null,
      "outputs": []
    },
    {
      "cell_type": "code",
      "source": [
        "# Seperate Independent Variable and Dependent Variable\n",
        "X = data.drop(\"mpg\",axis=1)\n",
        "y = data[\"mpg\"]"
      ],
      "metadata": {
        "id": "A2522XZblVTS"
      },
      "execution_count": null,
      "outputs": []
    },
    {
      "cell_type": "code",
      "source": [
        "# Split the data\n",
        "from sklearn.model_selection import train_test_split\n",
        "X_train,X_test,y_train,y_test = train_test_split(X,y,test_size=0.25,random_state=1)"
      ],
      "metadata": {
        "id": "wwep9vjel2Wi"
      },
      "execution_count": null,
      "outputs": []
    },
    {
      "cell_type": "code",
      "source": [
        "print(f\"X_train : {X_train.shape}\")\n",
        "print(f\"X_test : {X_test.shape}\")\n",
        "print(f\"y_train : {y_train.shape}\")\n",
        "print(f\"y_test : {y_test.shape}\")"
      ],
      "metadata": {
        "id": "z9YsEzyKmN1v"
      },
      "execution_count": null,
      "outputs": []
    },
    {
      "cell_type": "code",
      "source": [
        "# Make the simple Linear Regression Model\n",
        "from sklearn.linear_model import LinearRegression\n",
        "model = LinearRegression()\n",
        "model"
      ],
      "metadata": {
        "id": "CMwcqA02mUT2"
      },
      "execution_count": null,
      "outputs": []
    },
    {
      "cell_type": "code",
      "source": [
        "# Train The Model\n",
        "model.fit(X_train,y_train)"
      ],
      "metadata": {
        "id": "74s966XZmlCu"
      },
      "execution_count": null,
      "outputs": []
    },
    {
      "cell_type": "code",
      "source": [
        "marks = [34,56,7,64,89]\n",
        "# index = 0\n",
        "# for i in marks:\n",
        "#   print(i)\n",
        "#   if index == 2:\n",
        "#     print(f\"Index without enumerate {i}\")\n",
        "#   index+=1\n",
        "\n",
        "\n",
        "for index, i in enumerate(marks):\n",
        "  print(i)\n",
        "  if index == 2:\n",
        "    print(f\"Index with enumerate {i}\")\n",
        ""
      ],
      "metadata": {
        "id": "okkltuAFoWNG"
      },
      "execution_count": null,
      "outputs": []
    },
    {
      "cell_type": "code",
      "source": [
        "# Model Coefficient\n",
        "for i, col_name in enumerate(X_train.columns):\n",
        "  print(f\"{col_name} : {round(model.coef_[i],4)}\")\n",
        "\n",
        "# Observation : Coefficients are relatively smaller, if one independet variable changes\n",
        "#  There will be not much difference in predication\n",
        "#  This sometime called as smoother model\n",
        "\n",
        "# These features might not be contributing in model training"
      ],
      "metadata": {
        "id": "nLJuxIy7mqDe"
      },
      "execution_count": null,
      "outputs": []
    },
    {
      "cell_type": "code",
      "source": [
        "from sklearn.metrics import r2_score\n",
        "\n",
        "y_pred = model.predict(X_test)"
      ],
      "metadata": {
        "id": "aI3r-Wn_qBA1"
      },
      "execution_count": null,
      "outputs": []
    },
    {
      "cell_type": "code",
      "source": [
        "print(f\"R2 Score : {r2_score(y_test,y_pred)}\")"
      ],
      "metadata": {
        "id": "ot5XKSjuqLQz"
      },
      "execution_count": null,
      "outputs": []
    },
    {
      "cell_type": "code",
      "source": [
        "# Cross Validataion With Hyperparameter Tuning\n",
        "from sklearn.model_selection import GridSearchCV, RandomizedSearchCV\n",
        "from sklearn.linear_model import Lasso, Ridge,ElasticNet"
      ],
      "metadata": {
        "id": "NVCBJgMxqA6n"
      },
      "execution_count": null,
      "outputs": []
    },
    {
      "cell_type": "markdown",
      "source": [
        "## **LASSO**"
      ],
      "metadata": {
        "id": "KpAjoeIj9TY4"
      }
    },
    {
      "cell_type": "markdown",
      "source": [
        "### **GridSearchCV with Lasso**"
      ],
      "metadata": {
        "id": "kanwFtHrxLkA"
      }
    },
    {
      "cell_type": "code",
      "source": [
        "# define the parameter\n",
        "lasso = Lasso()\n",
        "lasso"
      ],
      "metadata": {
        "id": "nfA-WwF0qcEz"
      },
      "execution_count": null,
      "outputs": []
    },
    {
      "cell_type": "code",
      "source": [
        "# grid search cv : Dictionary with parameters names as keys and lists of parameter settings to try as\n",
        "param_grid = {\"alpha\":[0.001,0.01,0.1,1,10,100]}\n",
        "param_grid"
      ],
      "metadata": {
        "id": "10RYNqb0lPpJ"
      },
      "execution_count": null,
      "outputs": []
    },
    {
      "cell_type": "code",
      "source": [
        "grid_search = GridSearchCV(lasso,param_grid,cv=5,scoring=\"r2\",verbose=2)\n",
        "grid_search"
      ],
      "metadata": {
        "id": "Bm4oNSxxvOZg"
      },
      "execution_count": null,
      "outputs": []
    },
    {
      "cell_type": "code",
      "source": [
        "grid_search.fit(X_train,y_train)"
      ],
      "metadata": {
        "id": "pq-QrY6mvudk"
      },
      "execution_count": null,
      "outputs": []
    },
    {
      "cell_type": "code",
      "source": [
        "# Best Parameter\n",
        "grid_search.best_params_"
      ],
      "metadata": {
        "id": "IVpGxlvHv6J9"
      },
      "execution_count": null,
      "outputs": []
    },
    {
      "cell_type": "code",
      "source": [
        "# Accuracy Score\n",
        "grid_search.best_score_"
      ],
      "metadata": {
        "id": "exfaKIExwFuJ"
      },
      "execution_count": null,
      "outputs": []
    },
    {
      "cell_type": "code",
      "source": [
        "# Best Estimator model\n",
        "grid_search.best_estimator_"
      ],
      "metadata": {
        "id": "Yza1FkcAwR3C"
      },
      "execution_count": null,
      "outputs": []
    },
    {
      "cell_type": "code",
      "source": [
        "for i, col_name in enumerate(X_train.columns):\n",
        "  print(f\"{col_name} : {round(grid_search.best_estimator_.coef_[i],4)}\")"
      ],
      "metadata": {
        "id": "HuOCQ-gawbpU"
      },
      "execution_count": null,
      "outputs": []
    },
    {
      "cell_type": "code",
      "source": [
        "y_pred_grid = grid_search.predict(X_test)"
      ],
      "metadata": {
        "id": "0nsVoi0zwmHN"
      },
      "execution_count": null,
      "outputs": []
    },
    {
      "cell_type": "code",
      "source": [
        "# Accuracy of Model\n",
        "r2_score(y_test,y_pred_grid)"
      ],
      "metadata": {
        "id": "3mo9CQtBw4CQ"
      },
      "execution_count": null,
      "outputs": []
    },
    {
      "cell_type": "markdown",
      "source": [
        "### **RandomizedSearchCV with Lasso**"
      ],
      "metadata": {
        "id": "MDDiYx-mxRWT"
      }
    },
    {
      "cell_type": "code",
      "source": [
        "# Randomized Seach CV for Lasso\n",
        "lasso = Lasso()\n",
        "lasso"
      ],
      "metadata": {
        "id": "d3zRu50PxbM0"
      },
      "execution_count": null,
      "outputs": []
    },
    {
      "cell_type": "code",
      "source": [
        "para_dist = {\"alpha\":[0.001,0.01,0.1,1,10,100]}\n",
        "para_dist"
      ],
      "metadata": {
        "id": "mRVmdBrHyDS3"
      },
      "execution_count": null,
      "outputs": []
    },
    {
      "cell_type": "code",
      "source": [
        "random_search = RandomizedSearchCV(lasso,param_distributions=para_dist,n_iter=3,cv=5,scoring=\"r2\",verbose=2)\n",
        "# n_iter choose random 3 value in the para_dist for training model\n",
        "random_search"
      ],
      "metadata": {
        "id": "buYJwjC5yYcd"
      },
      "execution_count": null,
      "outputs": []
    },
    {
      "cell_type": "code",
      "source": [
        "# Train the model\n",
        "random_search.fit(X_train,y_train)"
      ],
      "metadata": {
        "id": "olb5xHeNywEn"
      },
      "execution_count": null,
      "outputs": []
    },
    {
      "cell_type": "code",
      "source": [
        "for i, col_x in enumerate(X_train.columns):\n",
        "  print(f\"{col_x} : {round(random_search.best_estimator_.coef_[i],4)}\")"
      ],
      "metadata": {
        "id": "Hf-vh5Vay3sL"
      },
      "execution_count": null,
      "outputs": []
    },
    {
      "cell_type": "code",
      "source": [
        "random_search.best_score_"
      ],
      "metadata": {
        "id": "tbz_564Uzsnw"
      },
      "execution_count": null,
      "outputs": []
    },
    {
      "cell_type": "code",
      "source": [
        "random_search.best_params_"
      ],
      "metadata": {
        "id": "w2EDqZZRy-v7"
      },
      "execution_count": null,
      "outputs": []
    },
    {
      "cell_type": "code",
      "source": [
        "y_pred_random = random_search.predict(X_test)"
      ],
      "metadata": {
        "id": "Sms5Pe52zJ-D"
      },
      "execution_count": null,
      "outputs": []
    },
    {
      "cell_type": "code",
      "source": [
        "r2_score(y_test,y_pred_random)"
      ],
      "metadata": {
        "id": "dBZsEdyazxCH"
      },
      "execution_count": null,
      "outputs": []
    },
    {
      "cell_type": "markdown",
      "source": [
        "## **Ridge**"
      ],
      "metadata": {
        "id": "WBAVrg1k7Dvw"
      }
    },
    {
      "cell_type": "markdown",
      "source": [
        "### **GridSearchCV with Ridge**"
      ],
      "metadata": {
        "id": "LFgVTz9e9kXt"
      }
    },
    {
      "cell_type": "code",
      "source": [
        "ridge = Ridge()\n",
        "para_grid = {\"alpha\":[0.001,0.01,0.1,1,10,100]}\n",
        "para_grid"
      ],
      "metadata": {
        "id": "_fhDzahk7Al_"
      },
      "execution_count": null,
      "outputs": []
    },
    {
      "cell_type": "code",
      "source": [
        "ridge = GridSearchCV(ridge,param_grid,cv=5,scoring=\"r2\",verbose=2)\n",
        "ridge"
      ],
      "metadata": {
        "id": "nh1tER0Q7UTJ"
      },
      "execution_count": null,
      "outputs": []
    },
    {
      "cell_type": "code",
      "source": [
        "ridge.fit(X_train,y_train)\n",
        "\n",
        "# Best Estimeter\n",
        "print(ridge.best_estimator_)\n",
        "\n",
        "y_pred_ridge = ridge.best_estimator_.predict(X_test)\n",
        "print(r2_score(y_test,y_pred_ridge))"
      ],
      "metadata": {
        "id": "OoB5YJd_7ZEq"
      },
      "execution_count": null,
      "outputs": []
    },
    {
      "cell_type": "markdown",
      "source": [
        "### **RandomizedSearchCV with Ridge**"
      ],
      "metadata": {
        "id": "dR_r-etw9rkL"
      }
    },
    {
      "cell_type": "code",
      "source": [
        "ridge = Ridge()\n",
        "para_dist = {\"alpha\":[0.001,0.01,0.1,1,10,100]}\n",
        "\n",
        "random_search = RandomizedSearchCV(ridge,param_grid,n_iter=2,cv=5,scoring=\"r2\",verbose=2)\n",
        "random_search"
      ],
      "metadata": {
        "id": "aCzzaco48hTH"
      },
      "execution_count": null,
      "outputs": []
    },
    {
      "cell_type": "code",
      "source": [
        "random_search.fit(X_train,y_train)\n",
        "\n",
        "# Best Estimeter\n",
        "print(random_search.best_estimator_)\n",
        "\n",
        "y_pred_random_search = random_search.best_estimator_.predict(X_test)\n",
        "print(r2_score(y_test,y_pred_random_search))"
      ],
      "metadata": {
        "id": "jEdG8uF389i9"
      },
      "execution_count": null,
      "outputs": []
    },
    {
      "cell_type": "markdown",
      "source": [
        "## **Elastic Net**"
      ],
      "metadata": {
        "id": "H9tiVuvz9xHX"
      }
    },
    {
      "cell_type": "markdown",
      "source": [
        "### **GridSearchCV with Elastic Net**"
      ],
      "metadata": {
        "id": "T4JVA3of98FV"
      }
    },
    {
      "cell_type": "code",
      "source": [
        "model = ElasticNet()\n",
        "model"
      ],
      "metadata": {
        "id": "qulJuwbi97zE"
      },
      "execution_count": null,
      "outputs": []
    },
    {
      "cell_type": "code",
      "source": [
        "para_grid = {\n",
        "               \"alpha\":[0.001,0.01,0.1,1,10,100],\n",
        "               \"l1_ratio\":[0.1,0.4,0.9]\n",
        "            }\n",
        "\n",
        "model_elastic_net = GridSearchCV(model,param_grid=para_grid,cv=5,scoring=\"r2\",verbose=2)\n",
        "model_elastic_net"
      ],
      "metadata": {
        "id": "rLgRwhx9-W9E"
      },
      "execution_count": null,
      "outputs": []
    },
    {
      "cell_type": "code",
      "source": [
        "model_elastic_net.fit(X_train,y_train)"
      ],
      "metadata": {
        "id": "Yum6Fpl6-4Y2"
      },
      "execution_count": null,
      "outputs": []
    },
    {
      "cell_type": "code",
      "source": [
        "print(f\"  Best Estimator : {model_elastic_net.best_estimator_}\")\n",
        "print(f\"  Best Score : {model_elastic_net.best_score_}\")\n",
        "print(f\"  Best Params : {model_elastic_net.best_params_}\")\n",
        "y_pred_elasticnet = model_elastic_net.best_estimator_.predict(X_test)\n",
        "print(f\" r2 Scoer : {r2_score(y_test,y_pred_elasticnet)}\")"
      ],
      "metadata": {
        "id": "jE8QH00W_aNK"
      },
      "execution_count": null,
      "outputs": []
    },
    {
      "cell_type": "markdown",
      "source": [
        "### **RandomizedSearchCV with Elastic Net**"
      ],
      "metadata": {
        "id": "GKsZkT-S93Om"
      }
    },
    {
      "cell_type": "code",
      "source": [
        "model = ElasticNet()\n",
        "model"
      ],
      "metadata": {
        "id": "aYoAn_M6ASK3"
      },
      "execution_count": null,
      "outputs": []
    },
    {
      "cell_type": "code",
      "source": [
        "para_dist = {\n",
        "               \"alpha\":[0.001,0.01,0.1,1,10,100],\n",
        "               \"l1_ratio\":[0.1,0.4,0.9]\n",
        "            }\n",
        "\n",
        "model_elastic_net = RandomizedSearchCV(model,param_distributions=para_dist,n_iter = 3,cv=5,scoring=\"r2\",verbose=2)\n",
        "model_elastic_net"
      ],
      "metadata": {
        "id": "3sBOvJG0AWAz"
      },
      "execution_count": null,
      "outputs": []
    },
    {
      "cell_type": "code",
      "source": [
        "model_elastic_net.fit(X_train,y_train)"
      ],
      "metadata": {
        "id": "7tZzB79qA6vX"
      },
      "execution_count": null,
      "outputs": []
    },
    {
      "cell_type": "code",
      "source": [
        "print(f\"  Best Estimator : {model_elastic_net.best_estimator_}\")\n",
        "print(f\"  Best Score : {model_elastic_net.best_score_}\")\n",
        "print(f\"  Best Params : {model_elastic_net.best_params_}\")\n",
        "y_pred_elasticnet = model_elastic_net.best_estimator_.predict(X_test)\n",
        "print(f\" r2 Scoer : {r2_score(y_test,y_pred_elasticnet)}\")"
      ],
      "metadata": {
        "id": "U5eURqPWA-7C"
      },
      "execution_count": null,
      "outputs": []
    }
  ]
}